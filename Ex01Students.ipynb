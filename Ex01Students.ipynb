from google.colab import drive

# Mount Google Drive to access files
drive.mount('/content/drive')


import pandas as pd

# Provide the path to your text file on Google Drive
file_path = '/content/drive/MyDrive/ex01/Students.txt'

# Read the content of the file into a pandas DataFrame
data = pd.read_csv(file_path, header=None, names=['Name', 'Email', 'Courses', 'Department', 'Favorite Show'])

# Display the loaded data
data


import ipywidgets as widgets


# Create a dropdown menu for student names
name_dropdown = widgets.Dropdown(
    options=data['Name'].tolist(),
    description='Select Student:',
    style={'description_width': 'initial'}
)

# Create a text area for displaying information
info_text = widgets.Textarea(
    value='',
    description='Student Information:',
    disabled=True,
    style={'description_width': 'initial'}
)

# Create an input field for changing the favorite show
favorite_show_input = widgets.Text(
    value='',
    description='Favorite Show:',
    style={'description_width': 'initial'}
)

# Create an update button
update_button = widgets.Button(description='Update Data')

# Function to update data when the button is pressed
def update_data(button):
    selected_name = name_dropdown.value
    new_favorite_show = favorite_show_input.value

    # Update the 'Favorite Show' field directly in the text file
    with open(file_path, 'r') as file:
        lines = file.readlines()

    for i, line in enumerate(lines):
        if selected_name in line:
            lines[i] = line.replace(data.loc[data['Name'] == selected_name, 'Favorite Show'].values[0], new_favorite_show)

    with open(file_path, 'w') as file:
        file.writelines(lines)

# Assign the function to the button's on_click event
update_button.on_click(update_data)

# Function to update information when a student is selected
def update_info(change):
    selected_name = change['new']
    student_info = data[data['Name'] == selected_name].squeeze()
    info_text.value = f"Name: {student_info['Name']}\nEmail: {student_info['Email']}\nCourses: {student_info['Courses']}\nDepartment: {student_info['Department']}\nFavorite Show: {student_info['Favorite Show']}"

# Assign the function to the dropdown's observe event
name_dropdown.observe(update_info, names='value')


# Display the widgets
display(name_dropdown)
display(info_text)
display(favorite_show_input)
display(update_button)
